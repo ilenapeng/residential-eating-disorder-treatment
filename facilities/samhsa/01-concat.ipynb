{
 "cells": [
  {
   "cell_type": "markdown",
   "id": "f63056ba",
   "metadata": {},
   "source": [
    "# Residential eating disorder treatment centers in the U.S.\n",
    "\n",
    "Data downloaded from [SAMHSA's treatment locator](https://findtreatment.samhsa.gov/locator) on 5/25/22\n",
    "\n",
    "* Check “Mental Health”\n",
    "* Select “Residential/24-hour residential” under service setting\n",
    "* Select “Persons with eating disorders” under special programs/groups offered\n",
    "* Search by state (Check the “State” box up top) and hit download for results in each one\n",
    "* Check “Include services information?” and click the link for “Download CSV format.” If you hit “Ok” instead of the “Download CSV format” link, you’ll get an XLSX that includes the service codes that everything means \n",
    "\n",
    "Note: States with no results (and therefore no CSVs): Delaware, Hawaii, Idaho, New Hampshire, New Mexico, Rhode Island, South Carolina, South Dakota, Vermont, Washington DC"
   ]
  },
  {
   "cell_type": "code",
   "execution_count": 1,
   "id": "db4e9653",
   "metadata": {},
   "outputs": [
    {
     "name": "stderr",
     "output_type": "stream",
     "text": [
      "/Users/ilenapeng/.pyenv/versions/3.9.7/lib/python3.9/site-packages/pandas/compat/__init__.py:124: UserWarning: Could not import the lzma module. Your installed Python is incomplete. Attempting to use lzma compression will result in a RuntimeError.\n",
      "  warnings.warn(msg)\n"
     ]
    }
   ],
   "source": [
    "import pandas as pd\n",
    "import glob\n",
    "import os"
   ]
  },
  {
   "cell_type": "code",
   "execution_count": 2,
   "id": "3fd6cea2",
   "metadata": {},
   "outputs": [
    {
     "data": {
      "text/plain": [
       "['raw/georgia.csv',\n",
       " 'raw/wyoming.csv',\n",
       " 'raw/wisconsin.csv',\n",
       " 'raw/minnesota.csv',\n",
       " 'raw/maryland.csv',\n",
       " 'raw/pennsylvania.csv',\n",
       " 'raw/texas.csv',\n",
       " 'raw/florida.csv',\n",
       " 'raw/michigan.csv',\n",
       " 'raw/tennessee.csv',\n",
       " 'raw/arkansas.csv',\n",
       " 'raw/ohio.csv',\n",
       " 'raw/nebraska.csv',\n",
       " 'raw/montana.csv',\n",
       " 'raw/indiana.csv',\n",
       " 'raw/new-york.csv',\n",
       " 'raw/west-virginia.csv',\n",
       " 'raw/mississippi.csv',\n",
       " 'raw/connecticut.csv',\n",
       " 'raw/oklahoma.csv',\n",
       " 'raw/north-dakota.csv',\n",
       " 'raw/colorado.csv',\n",
       " 'raw/maine.csv',\n",
       " 'raw/north-carolina.csv',\n",
       " 'raw/louisiana.csv',\n",
       " 'raw/utah.csv',\n",
       " 'raw/virginia.csv',\n",
       " 'raw/kentucky.csv',\n",
       " 'raw/massachusetts.csv',\n",
       " 'raw/alabama.csv',\n",
       " 'raw/arizona.csv',\n",
       " 'raw/california.csv',\n",
       " 'raw/nevada.csv',\n",
       " 'raw/new-jersey.csv',\n",
       " 'raw/alaska.csv',\n",
       " 'raw/illinois.csv',\n",
       " 'raw/oregon.csv',\n",
       " 'raw/kansas.csv',\n",
       " 'raw/washington.csv',\n",
       " 'raw/missouri.csv']"
      ]
     },
     "execution_count": 2,
     "metadata": {},
     "output_type": "execute_result"
    }
   ],
   "source": [
    "all_files = glob.glob(\"raw/*.csv\")\n",
    "all_files"
   ]
  },
  {
   "cell_type": "code",
   "execution_count": 3,
   "id": "07767e42",
   "metadata": {},
   "outputs": [
    {
     "data": {
      "text/plain": [
       "(168, 189)"
      ]
     },
     "execution_count": 3,
     "metadata": {},
     "output_type": "execute_result"
    }
   ],
   "source": [
    "df = pd.concat((pd.read_csv(each_file) for each_file in all_files))\n",
    "df.shape"
   ]
  },
  {
   "cell_type": "code",
   "execution_count": 4,
   "id": "0cb6a41b",
   "metadata": {},
   "outputs": [],
   "source": [
    "df.to_csv('clean/samhsa-treatment-data.csv', index=False)"
   ]
  }
 ],
 "metadata": {
  "kernelspec": {
   "display_name": "Python 3 (ipykernel)",
   "language": "python",
   "name": "python3"
  },
  "language_info": {
   "codemirror_mode": {
    "name": "ipython",
    "version": 3
   },
   "file_extension": ".py",
   "mimetype": "text/x-python",
   "name": "python",
   "nbconvert_exporter": "python",
   "pygments_lexer": "ipython3",
   "version": "3.9.7"
  }
 },
 "nbformat": 4,
 "nbformat_minor": 5
}
