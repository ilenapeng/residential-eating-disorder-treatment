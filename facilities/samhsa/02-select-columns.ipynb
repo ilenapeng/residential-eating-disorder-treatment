{
 "cells": [
  {
   "cell_type": "code",
   "execution_count": 1,
   "id": "d0699a02",
   "metadata": {},
   "outputs": [
    {
     "name": "stderr",
     "output_type": "stream",
     "text": [
      "/Users/ilenapeng/.pyenv/versions/3.9.7/lib/python3.9/site-packages/pandas/compat/__init__.py:124: UserWarning: Could not import the lzma module. Your installed Python is incomplete. Attempting to use lzma compression will result in a RuntimeError.\n",
      "  warnings.warn(msg)\n"
     ]
    }
   ],
   "source": [
    "import pandas as pd"
   ]
  },
  {
   "cell_type": "code",
   "execution_count": 2,
   "id": "9bb4f94d",
   "metadata": {},
   "outputs": [
    {
     "data": {
      "text/plain": [
       "Index(['name1', 'name2', 'street1', 'street2', 'city', 'state', 'zip', 'zip4',\n",
       "       'county', 'phone',\n",
       "       ...\n",
       "       'f42', 'f43', 'f47', 'f66', 'f67', 'f70', 'f81', 'f92', 'n24', 'n40'],\n",
       "      dtype='object', length=189)"
      ]
     },
     "execution_count": 2,
     "metadata": {},
     "output_type": "execute_result"
    }
   ],
   "source": [
    "df = pd.read_csv('clean/samhsa-treatment-data.csv')\n",
    "df.columns"
   ]
  },
  {
   "cell_type": "code",
   "execution_count": 3,
   "id": "5df2d394",
   "metadata": {},
   "outputs": [
    {
     "data": {
      "text/plain": [
       "Index(['name1', 'name2', 'street1', 'street2', 'city', 'state', 'zip', 'zip4',\n",
       "       'county', 'phone', 'website', 'latitude', 'longitude', 'hi', 'res',\n",
       "       'phdt', 'op', 'cbhc', 'msmh', 'omh', 'ores', 'ph', 'psy', 'rtca',\n",
       "       'rtcc', 'ipsy', 'shp', 'vahc', 'chld', 'yad', 'adlt', 'snr', 'tay',\n",
       "       'se', 'gl', 'vet', 'adm', 'mf', 'cj', 'co', 'hv', 'dv', 'trma', 'tbi',\n",
       "       'alz', 'ped', 'pefp', 'ptsd', 'sed', 'smi'],\n",
       "      dtype='object')"
      ]
     },
     "execution_count": 3,
     "metadata": {},
     "output_type": "execute_result"
    }
   ],
   "source": [
    "columns_keep = [\n",
    "# basic info\n",
    "    'name1', 'name2', 'street1', 'street2', 'city', 'state', 'zip', 'zip4', 'county', 'phone', 'website', 'latitude', 'longitude',\n",
    "# service setting: hospital inpatient, residential, partial hospitalization day treatment, outpatient\n",
    "    'hi', 'res', 'phdt', 'op',\n",
    "# facility type: \n",
    "    'cbhc', 'msmh', 'omh', 'ores', 'ph', 'psy', 'rtca', 'rtcc', 'ipsy', 'shp', 'vahc',\n",
    "# age groups: child (<12), young adult (18-25), adult (25-64), senior (65+) \n",
    "    'chld', 'yad', 'adlt', 'snr',\n",
    "# special programs offered - ped is EDs\n",
    "# TAY\tYoung adults\n",
    "# SE\tSeniors or older adults\n",
    "# GL\tLesbian, gay, bisexual, transgender, or queer/questioning (LGBTQ)\n",
    "# VET\tVeterans\n",
    "# ADM\tActive duty military\n",
    "# MF\tMembers of military families\n",
    "# CJ\tCriminal justice (other than DUI/DWI)/Forensic clients\n",
    "# CO\tClients with co-occurring mental and substance use disorders\n",
    "# HV\tClients with HIV or AIDS\n",
    "# DV\tClients who have experienced intimate partner violence, domestic violence\n",
    "# TRMA\tClients who have experienced trauma\n",
    "# TBI\tPersons with traumatic brain injury (TBI)\n",
    "# ALZ\tPersons with Alzheimer's or dementia\n",
    "# PED\tPersons with eating disorders\n",
    "# PEFP\tPersons experiencing first-episode psychosis\n",
    "# PTSD\tPersons with post-traumatic stress disorder (PTSD)\n",
    "# SED\tChildren/adolescents with serious emotional disturbance (SED)\n",
    "# SMI\tPersons  18 and older with serious mental illness (SMI)\n",
    "# \n",
    "    'tay', 'se', 'gl', 'vet', 'adm', 'mf', 'cj', 'co', 'hv', 'dv', 'trma', 'tbi', 'alz', 'ped', 'pefp', 'ptsd', 'sed', 'smi'\n",
    "]\n",
    "\n",
    "df = df.filter(items=columns_keep)\n",
    "df.columns"
   ]
  },
  {
   "cell_type": "code",
   "execution_count": 4,
   "id": "bea5263c",
   "metadata": {},
   "outputs": [],
   "source": [
    "df.to_csv('clean/samhsa-treatment-data-subset-cols.csv', index=False)"
   ]
  }
 ],
 "metadata": {
  "kernelspec": {
   "display_name": "Python 3 (ipykernel)",
   "language": "python",
   "name": "python3"
  },
  "language_info": {
   "codemirror_mode": {
    "name": "ipython",
    "version": 3
   },
   "file_extension": ".py",
   "mimetype": "text/x-python",
   "name": "python",
   "nbconvert_exporter": "python",
   "pygments_lexer": "ipython3",
   "version": "3.9.7"
  }
 },
 "nbformat": 4,
 "nbformat_minor": 5
}
