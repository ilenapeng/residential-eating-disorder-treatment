{
 "cells": [
  {
   "cell_type": "code",
   "execution_count": 1,
   "id": "6057f694",
   "metadata": {},
   "outputs": [
    {
     "name": "stderr",
     "output_type": "stream",
     "text": [
      "/Users/ilenapeng/.pyenv/versions/3.9.7/lib/python3.9/site-packages/pandas/compat/__init__.py:124: UserWarning: Could not import the lzma module. Your installed Python is incomplete. Attempting to use lzma compression will result in a RuntimeError.\n",
      "  warnings.warn(msg)\n"
     ]
    }
   ],
   "source": [
    "import pandas as pd\n",
    "import numpy as np"
   ]
  },
  {
   "cell_type": "code",
   "execution_count": 2,
   "id": "3b07837a",
   "metadata": {},
   "outputs": [
    {
     "data": {
      "text/html": [
       "<div>\n",
       "<style scoped>\n",
       "    .dataframe tbody tr th:only-of-type {\n",
       "        vertical-align: middle;\n",
       "    }\n",
       "\n",
       "    .dataframe tbody tr th {\n",
       "        vertical-align: top;\n",
       "    }\n",
       "\n",
       "    .dataframe thead th {\n",
       "        text-align: right;\n",
       "    }\n",
       "</style>\n",
       "<table border=\"1\" class=\"dataframe\">\n",
       "  <thead>\n",
       "    <tr style=\"text-align: right;\">\n",
       "      <th></th>\n",
       "      <th>address</th>\n",
       "      <th>street</th>\n",
       "      <th>city</th>\n",
       "      <th>state</th>\n",
       "      <th>program_type</th>\n",
       "      <th>program_type_specific</th>\n",
       "      <th>org</th>\n",
       "    </tr>\n",
       "  </thead>\n",
       "  <tbody>\n",
       "    <tr>\n",
       "      <th>0</th>\n",
       "      <td>1 Saint Andrews Lane, Glen Cove, NY</td>\n",
       "      <td>1 Saint Andrews Lane</td>\n",
       "      <td>Glen Cove</td>\n",
       "      <td>NY</td>\n",
       "      <td>Residential</td>\n",
       "      <td>Adults of all genders</td>\n",
       "      <td>Monte Nido</td>\n",
       "    </tr>\n",
       "    <tr>\n",
       "      <th>1</th>\n",
       "      <td>100 South Broadway, Irvington, NY</td>\n",
       "      <td>100 South Broadway</td>\n",
       "      <td>Irvington</td>\n",
       "      <td>NY</td>\n",
       "      <td>Residential</td>\n",
       "      <td>Adult females</td>\n",
       "      <td>Monte Nido</td>\n",
       "    </tr>\n",
       "  </tbody>\n",
       "</table>\n",
       "</div>"
      ],
      "text/plain": [
       "                               address                street       city state  \\\n",
       "0  1 Saint Andrews Lane, Glen Cove, NY  1 Saint Andrews Lane  Glen Cove    NY   \n",
       "1    100 South Broadway, Irvington, NY    100 South Broadway  Irvington    NY   \n",
       "\n",
       "  program_type  program_type_specific         org  \n",
       "0  Residential  Adults of all genders  Monte Nido  \n",
       "1  Residential          Adult females  Monte Nido  "
      ]
     },
     "execution_count": 2,
     "metadata": {},
     "output_type": "execute_result"
    }
   ],
   "source": [
    "# Data manually collected; addresseses manually split out before this step\n",
    "df = pd.read_csv('monte-nido-raw.csv')\n",
    "df.head(2)"
   ]
  },
  {
   "cell_type": "code",
   "execution_count": 3,
   "id": "949db613",
   "metadata": {},
   "outputs": [
    {
     "data": {
      "text/plain": [
       "Index(['address', 'street', 'city', 'state', 'program_type',\n",
       "       'program_type_specific', 'org', 'hi', 'res', 'phdt', 'op', 'cbhc',\n",
       "       'msmh', 'omh', 'ores', 'ph', 'psy', 'rtca', 'rtcc', 'ipsy', 'shp',\n",
       "       'vahc', 'chld', 'yad', 'adlt', 'snr', 'tay', 'se', 'gl', 'vet', 'adm',\n",
       "       'mf', 'cj', 'co', 'hv', 'dv', 'trma', 'tbi', 'alz', 'ped', 'pefp',\n",
       "       'ptsd', 'sed', 'smi'],\n",
       "      dtype='object')"
      ]
     },
     "execution_count": 3,
     "metadata": {},
     "output_type": "execute_result"
    }
   ],
   "source": [
    "# create blank columns to fill\n",
    "df[[\n",
    "    # treatment types: hospital inpatient, residential, partial hospitalization day treatment, outpatient\n",
    "    'hi', 'res', 'phdt', 'op',\n",
    "    # facility types: \n",
    "    'cbhc', 'msmh', 'omh', 'ores', 'ph', 'psy', 'rtca', 'rtcc', 'ipsy', 'shp', 'vahc',\n",
    "    # age groups: child (<12), young adult (18-25), adult (25-64), senior (65+) \n",
    "    'chld', 'yad', 'adlt', 'snr',\n",
    "    # special programs offered - ped is EDs\n",
    "    'tay', 'se', 'gl', 'vet', 'adm', 'mf', 'cj', 'co', 'hv', 'dv', 'trma', 'tbi', 'alz', 'ped', 'pefp', 'ptsd', 'sed', 'smi'\n",
    "   ]] = None\n",
    "\n",
    "df.columns"
   ]
  },
  {
   "cell_type": "code",
   "execution_count": 4,
   "id": "d78846ee",
   "metadata": {},
   "outputs": [],
   "source": [
    "# treatment types\n",
    "# residential\n",
    "df['res'] = np.where(df.program_type.str.contains('Residential'), 1, None)\n",
    "# partial hospitalization / day treatment\n",
    "df['phdt'] = np.where(df.program_type.str.contains('PHP'), 1, None)\n",
    "# outpatient\n",
    "df['op'] = np.where(df.program_type.str.contains('IOP'), 1, None)\n",
    "\n",
    "# facility types\n",
    "# msmh - Multi-setting mental health facility (e.g., non-hospital residential plus either outpatient and/or partial hospitalization/day treatment)\n",
    "df['msmh'] = np.where(df.program_type.str.contains('PHP/IOP and Residential'), 1, None)\n",
    "# omh - outpatient mental health\n",
    "df['omh'] = np.where(df.program_type.str.contains('IOP|outpatient'), 1, None)\n",
    "# ph - outpatient mental health\n",
    "df['ph'] = np.where(df.program_type.str.contains('PHP'), 1, None)\n",
    "\n",
    "# age groups\n",
    "df['chld'] = np.where(df.program_type.str.contains('ages 11-'), 1, None)\n",
    "df['yad'] = np.where(df.program_type.str.contains('Adult|Women'), 1, None)\n",
    "df['adlt'] = np.where(df.program_type.str.contains('Adult|Women'), 1, None)\n",
    "df['snr'] = np.where(df.program_type.str.contains('Adult|Women'), 1, None)\n",
    "\n",
    "# special services offered - ED treatment for all, set to 1\n",
    "df['ped'] = 1"
   ]
  },
  {
   "cell_type": "code",
   "execution_count": 5,
   "id": "f4542551",
   "metadata": {},
   "outputs": [],
   "source": [
    "# save clean dataset\n",
    "df.to_csv('monte-nido-clean.csv', index=False)"
   ]
  },
  {
   "cell_type": "code",
   "execution_count": 6,
   "id": "0820a2fc",
   "metadata": {},
   "outputs": [],
   "source": [
    "# keep only if residential facility for concat\n",
    "df_res = df[df.res == 1]"
   ]
  },
  {
   "cell_type": "code",
   "execution_count": 7,
   "id": "0f2453bb",
   "metadata": {},
   "outputs": [],
   "source": [
    "df_res.to_csv('monte-nido-for-concat.csv', index=False)"
   ]
  }
 ],
 "metadata": {
  "kernelspec": {
   "display_name": "Python 3 (ipykernel)",
   "language": "python",
   "name": "python3"
  },
  "language_info": {
   "codemirror_mode": {
    "name": "ipython",
    "version": 3
   },
   "file_extension": ".py",
   "mimetype": "text/x-python",
   "name": "python",
   "nbconvert_exporter": "python",
   "pygments_lexer": "ipython3",
   "version": "3.9.7"
  }
 },
 "nbformat": 4,
 "nbformat_minor": 5
}
