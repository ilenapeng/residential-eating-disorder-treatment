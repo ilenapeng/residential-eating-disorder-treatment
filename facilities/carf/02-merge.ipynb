{
 "cells": [
  {
   "cell_type": "code",
   "execution_count": 1,
   "id": "1a429d94",
   "metadata": {},
   "outputs": [
    {
     "name": "stderr",
     "output_type": "stream",
     "text": [
      "/Users/ilenapeng/.pyenv/versions/3.9.7/lib/python3.9/site-packages/pandas/compat/__init__.py:124: UserWarning: Could not import the lzma module. Your installed Python is incomplete. Attempting to use lzma compression will result in a RuntimeError.\n",
      "  warnings.warn(msg)\n"
     ]
    }
   ],
   "source": [
    "import pandas as pd"
   ]
  },
  {
   "cell_type": "code",
   "execution_count": 2,
   "id": "a72879c2",
   "metadata": {},
   "outputs": [],
   "source": [
    "df = pd.read_csv('carf-accredited-raw.csv')\n",
    "df_programs = pd.read_csv('programs-only-clean.csv')"
   ]
  },
  {
   "cell_type": "code",
   "execution_count": 3,
   "id": "086cb18b",
   "metadata": {},
   "outputs": [
    {
     "name": "stdout",
     "output_type": "stream",
     "text": [
      "37\n",
      "37\n"
     ]
    }
   ],
   "source": [
    "print(len(df))\n",
    "print(len(df_programs))"
   ]
  },
  {
   "cell_type": "code",
   "execution_count": 4,
   "id": "f58cdced",
   "metadata": {},
   "outputs": [],
   "source": [
    "# sort names a-z, reset the index alpabetically, drop old index\n",
    "df = df.sort_values('name', ascending=True).reset_index().drop(['index'], axis=1)\n",
    "df_programs = df_programs.sort_values('name', ascending=True).reset_index().drop(['index'], axis=1)"
   ]
  },
  {
   "cell_type": "code",
   "execution_count": 5,
   "id": "fa4f8943",
   "metadata": {},
   "outputs": [],
   "source": [
    "# rename name and link column names in df_programs to avoid duplicate col names in merge\n",
    "df_programs = df_programs.rename(columns={\"name\": \"name_programs\", \"link\": \"link_programs\"})"
   ]
  },
  {
   "cell_type": "code",
   "execution_count": 6,
   "id": "222a799e",
   "metadata": {},
   "outputs": [
    {
     "data": {
      "text/plain": [
       "37"
      ]
     },
     "execution_count": 6,
     "metadata": {},
     "output_type": "execute_result"
    }
   ],
   "source": [
    "# merge\n",
    "df_merge = pd.concat([df, df_programs], axis=1)\n",
    "len(df_merge)"
   ]
  },
  {
   "cell_type": "code",
   "execution_count": 7,
   "id": "b5031929",
   "metadata": {},
   "outputs": [],
   "source": [
    "# drop duplicate name and link columns - COMMENT OUT TO LEAVE IN THE DUPLICATE NAME & LINK COLUMNS TO DOUBLE CHECK THE CONCAT\n",
    "df_merge = df_merge.drop(['name_programs', 'link_programs'], axis=1)"
   ]
  },
  {
   "cell_type": "code",
   "execution_count": 8,
   "id": "23e774a4",
   "metadata": {},
   "outputs": [
    {
     "data": {
      "text/plain": [
       "29"
      ]
     },
     "execution_count": 8,
     "metadata": {},
     "output_type": "execute_result"
    }
   ],
   "source": [
    "# drop duplicates that occur because a facility shows up both under regular and children & adolescents\n",
    "df_merge = df_merge.drop_duplicates(subset=['link'])\n",
    "len(df_merge)"
   ]
  },
  {
   "cell_type": "code",
   "execution_count": 9,
   "id": "de200c7a",
   "metadata": {},
   "outputs": [],
   "source": [
    "# save dataframe\n",
    "df_merge.to_csv('carf-accredited-merged.csv', index=False)"
   ]
  }
 ],
 "metadata": {
  "kernelspec": {
   "display_name": "Python 3 (ipykernel)",
   "language": "python",
   "name": "python3"
  },
  "language_info": {
   "codemirror_mode": {
    "name": "ipython",
    "version": 3
   },
   "file_extension": ".py",
   "mimetype": "text/x-python",
   "name": "python",
   "nbconvert_exporter": "python",
   "pygments_lexer": "ipython3",
   "version": "3.9.7"
  }
 },
 "nbformat": 4,
 "nbformat_minor": 5
}
