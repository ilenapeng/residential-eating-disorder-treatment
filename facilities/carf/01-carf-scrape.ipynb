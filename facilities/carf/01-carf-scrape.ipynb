{
 "cells": [
  {
   "cell_type": "markdown",
   "id": "9fc99074",
   "metadata": {},
   "source": [
    "# CARF accredited facilities"
   ]
  },
  {
   "cell_type": "code",
   "execution_count": 1,
   "id": "a3f39913",
   "metadata": {},
   "outputs": [
    {
     "name": "stderr",
     "output_type": "stream",
     "text": [
      "/Users/ilenapeng/.pyenv/versions/3.9.7/lib/python3.9/site-packages/pandas/compat/__init__.py:124: UserWarning: Could not import the lzma module. Your installed Python is incomplete. Attempting to use lzma compression will result in a RuntimeError.\n",
      "  warnings.warn(msg)\n"
     ]
    }
   ],
   "source": [
    "import pandas as pd\n",
    "\n",
    "from selenium import webdriver\n",
    "from selenium.webdriver.common.by import By\n",
    "from selenium.webdriver.support.ui import WebDriverWait\n",
    "from selenium.webdriver.support import expected_conditions as EC\n",
    "from selenium.webdriver.support.ui import Select\n",
    "\n",
    "from webdriver_manager.chrome import ChromeDriverManager\n",
    "\n",
    "import requests\n",
    "from bs4 import BeautifulSoup\n",
    "\n",
    "import re"
   ]
  },
  {
   "cell_type": "code",
   "execution_count": 2,
   "id": "40770245",
   "metadata": {},
   "outputs": [
    {
     "name": "stderr",
     "output_type": "stream",
     "text": [
      "\n",
      "\n",
      "====== WebDriver manager ======\n",
      "Current google-chrome version is 102.0.5005\n",
      "Get LATEST chromedriver version for 102.0.5005 google-chrome\n",
      "Driver [/Users/ilenapeng/.wdm/drivers/chromedriver/mac64/102.0.5005.61/chromedriver] found in cache\n",
      "/var/folders/9x/ttxn_gwj0592mr6h8s5y29980000gn/T/ipykernel_14090/1503906442.py:1: DeprecationWarning: executable_path has been deprecated, please pass in a Service object\n",
      "  driver = webdriver.Chrome(ChromeDriverManager().install())\n"
     ]
    }
   ],
   "source": [
    "driver = webdriver.Chrome(ChromeDriverManager().install())"
   ]
  },
  {
   "cell_type": "code",
   "execution_count": 3,
   "id": "d2a0f695",
   "metadata": {},
   "outputs": [],
   "source": [
    "driver.get(\"http://www.carf.org/advancedProviderSearch.aspx\")"
   ]
  },
  {
   "cell_type": "markdown",
   "id": "74252d8f",
   "metadata": {},
   "source": [
    "## All CARF accredited facilities that offer ED treatment"
   ]
  },
  {
   "cell_type": "markdown",
   "id": "90a6aa68",
   "metadata": {},
   "source": [
    "### Residential (BH)"
   ]
  },
  {
   "cell_type": "code",
   "execution_count": 4,
   "id": "408e1f50",
   "metadata": {},
   "outputs": [],
   "source": [
    "# Select program: residential treatment (BH)\n",
    "driver.find_element(By.XPATH, '//*[@id=\"ctl00_body_ddlProgram\"]/option[129]').click()\n",
    "\n",
    "# Select age group/special population: eating disorders\n",
    "driver.find_element(By.XPATH, '//*[@id=\"ctl00_body_ddlPopulation\"]/option[8]').click()\n",
    "\n",
    "# Press search ctl00_body_btnAdvSearch\n",
    "driver.find_element(By.ID, 'ctl00_body_btnAdvSearch').click()\n",
    "\n",
    "# Pull into beautiful soup\n",
    "doc = BeautifulSoup(driver.page_source)"
   ]
  },
  {
   "cell_type": "code",
   "execution_count": 5,
   "id": "bcd25789",
   "metadata": {},
   "outputs": [
    {
     "data": {
      "text/plain": [
       "10"
      ]
     },
     "execution_count": 5,
     "metadata": {},
     "output_type": "execute_result"
    }
   ],
   "source": [
    "# Create empty dataframe\n",
    "data = []\n",
    "\n",
    "for each_row in doc.find_all('tr')[10:20]:\n",
    "    facility = {}\n",
    "# name\n",
    "    facility['name'] = each_row.find('a').text\n",
    "# link\n",
    "    facility['link'] = 'http://www.carf.org/' + each_row.find('a')['href']\n",
    "# city\n",
    "    facility['city'] = each_row.find_all('td')[1].text\n",
    "# state\n",
    "    facility['state'] = each_row.find_all('td')[2].text\n",
    "# skip country column\n",
    "# affiliated/parent company\n",
    "    facility['company'] = each_row.find_all('td')[4].text\n",
    "# type column, which will change for each dropdown\n",
    "    facility['type'] = 'BH'\n",
    "    \n",
    "# click on link to get more info\n",
    "    driver.get('http://www.carf.org/' + each_row.find('a')['href'])\n",
    "    doc = BeautifulSoup(driver.page_source)\n",
    "    try:\n",
    "        facility['address'] = doc.find(id='ctl00_body_pnlProviderInformation').find_all('br')[0].previousSibling\n",
    "        facility['address_pt2'] = doc.find(id='ctl00_body_pnlProviderInformation').find_all('br')[1].previousSibling\n",
    "        facility['phone'] = doc.find(id='ctl00_body_pnlProviderInformation').find_all('br')[3].previousSibling\n",
    "        facility['website'] = doc.find(id='ctl00_body_pnlProviderInformation').find_all('br')[4].previousSibling\n",
    "\n",
    "    except:\n",
    "        facility['address'] = 'NA'\n",
    "        facility['address_pt2'] = 'NA'\n",
    "        facility['phone'] = 'NA'\n",
    "        facility['website'] = 'NA'\n",
    "    \n",
    "    data.append(facility)\n",
    "    \n",
    "len(data)"
   ]
  },
  {
   "cell_type": "code",
   "execution_count": 6,
   "id": "b4e596b0",
   "metadata": {},
   "outputs": [
    {
     "data": {
      "text/plain": [
       "20"
      ]
     },
     "execution_count": 6,
     "metadata": {},
     "output_type": "execute_result"
    }
   ],
   "source": [
    "# go back to search page\n",
    "driver.get(\"http://www.carf.org/advancedProviderSearch.aspx\")\n",
    "\n",
    "# Select program: residential treatment (BH)\n",
    "driver.find_element(By.XPATH, '//*[@id=\"ctl00_body_ddlProgram\"]/option[129]').click()\n",
    "\n",
    "# Select age group/special population: eating disorders\n",
    "driver.find_element(By.XPATH, '//*[@id=\"ctl00_body_ddlPopulation\"]/option[8]').click()\n",
    "\n",
    "# Press search ctl00_body_btnAdvSearch\n",
    "driver.find_element(By.ID, 'ctl00_body_btnAdvSearch').click()\n",
    "\n",
    "# click to page 2\n",
    "driver.find_element(By.XPATH, '//*[@id=\"ctl00_body_gvProviderAdvSearch_ctl13_btnPagingNum2\"]').click()\n",
    "\n",
    "# pull into BS\n",
    "doc = BeautifulSoup(driver.page_source)\n",
    "\n",
    "# add to data\n",
    "\n",
    "for each_row in doc.find_all('tr')[10:20]:\n",
    "    facility = {}\n",
    "# name\n",
    "    facility['name'] = each_row.find('a').text\n",
    "# link\n",
    "    facility['link'] = 'http://www.carf.org/' + each_row.find('a')['href']\n",
    "# city\n",
    "    facility['city'] = each_row.find_all('td')[1].text\n",
    "# state\n",
    "    facility['state'] = each_row.find_all('td')[2].text\n",
    "# skip country column\n",
    "# affiliated/parent company\n",
    "    facility['company'] = each_row.find_all('td')[4].text\n",
    "# type column, which will change for each dropdown\n",
    "    facility['type'] = 'BH'\n",
    "    \n",
    "# click on link to get more info\n",
    "    driver.get('http://www.carf.org/' + each_row.find('a')['href'])\n",
    "    doc = BeautifulSoup(driver.page_source)\n",
    "    try:\n",
    "        facility['address'] = doc.find(id='ctl00_body_pnlProviderInformation').find_all('br')[0].previousSibling\n",
    "        facility['address_pt2'] = doc.find(id='ctl00_body_pnlProviderInformation').find_all('br')[1].previousSibling\n",
    "        facility['phone'] = doc.find(id='ctl00_body_pnlProviderInformation').find_all('br')[3].previousSibling\n",
    "        facility['website'] = doc.find(id='ctl00_body_pnlProviderInformation').find_all('br')[4].previousSibling\n",
    "\n",
    "    except:\n",
    "        facility['address'] = 'NA'\n",
    "        facility['address_pt2'] = 'NA'\n",
    "        facility['phone'] = 'NA'\n",
    "        facility['website'] = 'NA'\n",
    "        \n",
    "    data.append(facility)\n",
    "    \n",
    "len(data)"
   ]
  },
  {
   "cell_type": "code",
   "execution_count": 7,
   "id": "dc0bdd0e",
   "metadata": {},
   "outputs": [
    {
     "data": {
      "text/plain": [
       "22"
      ]
     },
     "execution_count": 7,
     "metadata": {},
     "output_type": "execute_result"
    }
   ],
   "source": [
    "# go back to search page\n",
    "driver.get(\"http://www.carf.org/advancedProviderSearch.aspx\")\n",
    "\n",
    "# Select program: residential treatment (BH)\n",
    "driver.find_element(By.XPATH, '//*[@id=\"ctl00_body_ddlProgram\"]/option[129]').click()\n",
    "\n",
    "# Select age group/special population: eating disorders\n",
    "driver.find_element(By.XPATH, '//*[@id=\"ctl00_body_ddlPopulation\"]/option[8]').click()\n",
    "\n",
    "# Press search ctl00_body_btnAdvSearch\n",
    "driver.find_element(By.ID, 'ctl00_body_btnAdvSearch').click()\n",
    "\n",
    "# click to page 3\n",
    "driver.find_element(By.XPATH, '//*[@id=\"ctl00_body_gvProviderAdvSearch_ctl13_btnPagingNum3\"]').click()\n",
    "\n",
    "# pull into BS\n",
    "doc = BeautifulSoup(driver.page_source)\n",
    "\n",
    "# add to data\n",
    "\n",
    "for each_row in doc.find_all('tr')[10:12]:\n",
    "    facility = {}\n",
    "# name\n",
    "    facility['name'] = each_row.find('a').text\n",
    "# link\n",
    "    facility['link'] = 'http://www.carf.org/' + each_row.find('a')['href']\n",
    "# city\n",
    "    facility['city'] = each_row.find_all('td')[1].text\n",
    "# state\n",
    "    facility['state'] = each_row.find_all('td')[2].text\n",
    "# skip country column\n",
    "# affiliated/parent company\n",
    "    facility['company'] = each_row.find_all('td')[4].text\n",
    "# type column, which will change for each dropdown\n",
    "    facility['type'] = 'BH'\n",
    "\n",
    "    # click on link to get more info\n",
    "    driver.get('http://www.carf.org/' + each_row.find('a')['href'])\n",
    "    doc = BeautifulSoup(driver.page_source)\n",
    "    try:\n",
    "        facility['address'] = doc.find(id='ctl00_body_pnlProviderInformation').find_all('br')[0].previousSibling\n",
    "        facility['address_pt2'] = doc.find(id='ctl00_body_pnlProviderInformation').find_all('br')[1].previousSibling\n",
    "        facility['phone'] = doc.find(id='ctl00_body_pnlProviderInformation').find_all('br')[3].previousSibling\n",
    "        facility['website'] = doc.find(id='ctl00_body_pnlProviderInformation').find_all('br')[4].previousSibling\n",
    "\n",
    "    except:\n",
    "        facility['address'] = 'NA'\n",
    "        facility['address_pt2'] = 'NA'\n",
    "        facility['phone'] = 'NA'\n",
    "        facility['website'] = 'NA'\n",
    "        \n",
    "    data.append(facility)\n",
    "    \n",
    "len(data)"
   ]
  },
  {
   "cell_type": "markdown",
   "id": "894b3782",
   "metadata": {},
   "source": [
    "### BH, children and adolescents"
   ]
  },
  {
   "cell_type": "code",
   "execution_count": 8,
   "id": "1086fdbf",
   "metadata": {},
   "outputs": [
    {
     "data": {
      "text/plain": [
       "32"
      ]
     },
     "execution_count": 8,
     "metadata": {},
     "output_type": "execute_result"
    }
   ],
   "source": [
    "# go back to search page\n",
    "driver.get(\"http://www.carf.org/advancedProviderSearch.aspx\")\n",
    "\n",
    "# Select program: residential treatment (BH)\n",
    "driver.find_element(By.XPATH, '//*[@id=\"ctl00_body_ddlProgram\"]/option[129]').click()\n",
    "\n",
    "# Select age group/special population: eating disorders, children and adolescents\n",
    "driver.find_element(By.XPATH, '//*[@id=\"ctl00_body_ddlPopulation\"]/option[9]').click()\n",
    "\n",
    "# Press search ctl00_body_btnAdvSearch\n",
    "driver.find_element(By.ID, 'ctl00_body_btnAdvSearch').click()\n",
    "\n",
    "# Pull into beautiful soup\n",
    "doc = BeautifulSoup(driver.page_source)\n",
    "\n",
    "for each_row in doc.find_all('tr')[10:20]:\n",
    "    facility = {}\n",
    "# name\n",
    "    facility['name'] = each_row.find('a').text\n",
    "# link\n",
    "    facility['link'] = 'http://www.carf.org/' + each_row.find('a')['href']\n",
    "# city\n",
    "    facility['city'] = each_row.find_all('td')[1].text\n",
    "# state\n",
    "    facility['state'] = each_row.find_all('td')[2].text\n",
    "# skip country column\n",
    "# affiliated/parent company\n",
    "    facility['company'] = each_row.find_all('td')[4].text\n",
    "# type column, which will change for each dropdown\n",
    "    facility['type'] = 'BH, children and adolescents'\n",
    "    \n",
    "# click on link to get more info\n",
    "    driver.get('http://www.carf.org/' + each_row.find('a')['href'])\n",
    "    doc = BeautifulSoup(driver.page_source)\n",
    "    try:\n",
    "        facility['address'] = doc.find(id='ctl00_body_pnlProviderInformation').find_all('br')[0].previousSibling\n",
    "        facility['address_pt2'] = doc.find(id='ctl00_body_pnlProviderInformation').find_all('br')[1].previousSibling\n",
    "        facility['phone'] = doc.find(id='ctl00_body_pnlProviderInformation').find_all('br')[3].previousSibling\n",
    "        facility['website'] = doc.find(id='ctl00_body_pnlProviderInformation').find_all('br')[4].previousSibling\n",
    "\n",
    "    except:\n",
    "        facility['address'] = 'NA'\n",
    "        facility['address_pt2'] = 'NA'\n",
    "        facility['phone'] = 'NA'\n",
    "        facility['website'] = 'NA'\n",
    "        \n",
    "    data.append(facility)\n",
    "    \n",
    "len(data)"
   ]
  },
  {
   "cell_type": "code",
   "execution_count": 9,
   "id": "23fdc416",
   "metadata": {},
   "outputs": [
    {
     "data": {
      "text/plain": [
       "37"
      ]
     },
     "execution_count": 9,
     "metadata": {},
     "output_type": "execute_result"
    }
   ],
   "source": [
    "# go back to search page\n",
    "driver.get(\"http://www.carf.org/advancedProviderSearch.aspx\")\n",
    "\n",
    "# Select program: residential treatment (BH)\n",
    "driver.find_element(By.XPATH, '//*[@id=\"ctl00_body_ddlProgram\"]/option[129]').click()\n",
    "\n",
    "# Select age group/special population: eating disorders, children and adolescents\n",
    "driver.find_element(By.XPATH, '//*[@id=\"ctl00_body_ddlPopulation\"]/option[9]').click()\n",
    "\n",
    "# Press search ctl00_body_btnAdvSearch\n",
    "driver.find_element(By.ID, 'ctl00_body_btnAdvSearch').click()\n",
    "\n",
    "# Pull into beautiful soup\n",
    "doc = BeautifulSoup(driver.page_source)\n",
    "    \n",
    "# click to page 2\n",
    "driver.find_element(By.XPATH, '//*[@id=\"ctl00_body_gvProviderAdvSearch_ctl13_btnPagingNum2\"]').click()\n",
    "\n",
    "# pull into BS\n",
    "doc = BeautifulSoup(driver.page_source)\n",
    "\n",
    "# add to data\n",
    "\n",
    "for each_row in doc.find_all('tr')[10:15]:\n",
    "    facility = {}\n",
    "# name\n",
    "    facility['name'] = each_row.find('a').text\n",
    "# link\n",
    "    facility['link'] = 'http://www.carf.org/' + each_row.find('a')['href']\n",
    "# city\n",
    "    facility['city'] = each_row.find_all('td')[1].text\n",
    "# state\n",
    "    facility['state'] = each_row.find_all('td')[2].text\n",
    "# skip country column\n",
    "# affiliated/parent company\n",
    "    facility['company'] = each_row.find_all('td')[4].text\n",
    "# type column, which will change for each dropdown\n",
    "    facility['type'] = 'BH, children and adolescents'\n",
    "    \n",
    "# click on link to get more info\n",
    "    driver.get('http://www.carf.org/' + each_row.find('a')['href'])\n",
    "    doc = BeautifulSoup(driver.page_source)\n",
    "    try:\n",
    "        facility['address'] = doc.find(id='ctl00_body_pnlProviderInformation').find_all('br')[0].previousSibling\n",
    "        facility['address_pt2'] = doc.find(id='ctl00_body_pnlProviderInformation').find_all('br')[1].previousSibling\n",
    "        facility['phone'] = doc.find(id='ctl00_body_pnlProviderInformation').find_all('br')[3].previousSibling\n",
    "        facility['website'] = doc.find(id='ctl00_body_pnlProviderInformation').find_all('br')[4].previousSibling\n",
    "\n",
    "    except:\n",
    "        facility['address'] = 'NA'\n",
    "        facility['address_pt2'] = 'NA'\n",
    "        facility['phone'] = 'NA'\n",
    "        facility['website'] = 'NA'\n",
    "        \n",
    "    data.append(facility)\n",
    "    \n",
    "len(data)"
   ]
  },
  {
   "cell_type": "markdown",
   "id": "eb6f5e8e",
   "metadata": {},
   "source": [
    "### Save to dataframe"
   ]
  },
  {
   "cell_type": "code",
   "execution_count": 10,
   "id": "8442f16c",
   "metadata": {},
   "outputs": [
    {
     "data": {
      "text/html": [
       "<div>\n",
       "<style scoped>\n",
       "    .dataframe tbody tr th:only-of-type {\n",
       "        vertical-align: middle;\n",
       "    }\n",
       "\n",
       "    .dataframe tbody tr th {\n",
       "        vertical-align: top;\n",
       "    }\n",
       "\n",
       "    .dataframe thead th {\n",
       "        text-align: right;\n",
       "    }\n",
       "</style>\n",
       "<table border=\"1\" class=\"dataframe\">\n",
       "  <thead>\n",
       "    <tr style=\"text-align: right;\">\n",
       "      <th></th>\n",
       "      <th>name</th>\n",
       "      <th>link</th>\n",
       "      <th>city</th>\n",
       "      <th>state</th>\n",
       "      <th>company</th>\n",
       "      <th>type</th>\n",
       "      <th>address</th>\n",
       "      <th>address_pt2</th>\n",
       "      <th>phone</th>\n",
       "      <th>website</th>\n",
       "    </tr>\n",
       "  </thead>\n",
       "  <tbody>\n",
       "    <tr>\n",
       "      <th>0</th>\n",
       "      <td>Anna Westin House</td>\n",
       "      <td>http://www.carf.org/providerProfile.aspx?cid=3...</td>\n",
       "      <td>Saint Paul</td>\n",
       "      <td>MN</td>\n",
       "      <td>The Emily Program, LLC</td>\n",
       "      <td>BH</td>\n",
       "      <td>1449 Cleveland Avenue North</td>\n",
       "      <td>Saint Paul, MN  55108</td>\n",
       "      <td>651-645-5323</td>\n",
       "      <td>651-645-5323</td>\n",
       "    </tr>\n",
       "    <tr>\n",
       "      <th>1</th>\n",
       "      <td>Anna Westin House Adolescent and Young Adult</td>\n",
       "      <td>http://www.carf.org/providerProfile.aspx?cid=3...</td>\n",
       "      <td>Saint Paul</td>\n",
       "      <td>MN</td>\n",
       "      <td>The Emily Program, LLC</td>\n",
       "      <td>BH</td>\n",
       "      <td>2230 Como Avenue</td>\n",
       "      <td>Saint Paul, MN  55108</td>\n",
       "      <td>651-645-5323</td>\n",
       "      <td>651-645-5323</td>\n",
       "    </tr>\n",
       "    <tr>\n",
       "      <th>2</th>\n",
       "      <td>Anna Westin House West</td>\n",
       "      <td>http://www.carf.org/providerProfile.aspx?cid=3...</td>\n",
       "      <td>Minneapolis</td>\n",
       "      <td>MN</td>\n",
       "      <td>The Emily Program, LLC</td>\n",
       "      <td>BH</td>\n",
       "      <td>3012 44th Street West</td>\n",
       "      <td>Minneapolis, MN  55410</td>\n",
       "      <td>651-645-5323</td>\n",
       "      <td>651-645-5323</td>\n",
       "    </tr>\n",
       "    <tr>\n",
       "      <th>3</th>\n",
       "      <td>Carolina House</td>\n",
       "      <td>http://www.carf.org/providerProfile.aspx?cid=2...</td>\n",
       "      <td>Durham</td>\n",
       "      <td>NC</td>\n",
       "      <td>CRC ED Treatment, LLC dba Carolina House</td>\n",
       "      <td>BH</td>\n",
       "      <td>7200 NC Highway 751</td>\n",
       "      <td>Durham, NC  27713</td>\n",
       "      <td>919-224-1628</td>\n",
       "      <td>919-224-1628</td>\n",
       "    </tr>\n",
       "    <tr>\n",
       "      <th>4</th>\n",
       "      <td>CRC ED Treatment, Inc. dba Montecatini</td>\n",
       "      <td>http://www.carf.org/providerProfile.aspx?cid=2...</td>\n",
       "      <td>Carlsbad</td>\n",
       "      <td>CA</td>\n",
       "      <td>Acadia Healthcare</td>\n",
       "      <td>BH</td>\n",
       "      <td>2524 La Costa Avenue</td>\n",
       "      <td>Carlsbad, CA  92009</td>\n",
       "      <td>760-436-2657</td>\n",
       "      <td>760-436-2657</td>\n",
       "    </tr>\n",
       "  </tbody>\n",
       "</table>\n",
       "</div>"
      ],
      "text/plain": [
       "                                           name  \\\n",
       "0                             Anna Westin House   \n",
       "1  Anna Westin House Adolescent and Young Adult   \n",
       "2                        Anna Westin House West   \n",
       "3                                Carolina House   \n",
       "4        CRC ED Treatment, Inc. dba Montecatini   \n",
       "\n",
       "                                                link         city state  \\\n",
       "0  http://www.carf.org/providerProfile.aspx?cid=3...   Saint Paul    MN   \n",
       "1  http://www.carf.org/providerProfile.aspx?cid=3...   Saint Paul    MN   \n",
       "2  http://www.carf.org/providerProfile.aspx?cid=3...  Minneapolis    MN   \n",
       "3  http://www.carf.org/providerProfile.aspx?cid=2...       Durham    NC   \n",
       "4  http://www.carf.org/providerProfile.aspx?cid=2...     Carlsbad    CA   \n",
       "\n",
       "                                    company type                      address  \\\n",
       "0                    The Emily Program, LLC   BH  1449 Cleveland Avenue North   \n",
       "1                    The Emily Program, LLC   BH             2230 Como Avenue   \n",
       "2                    The Emily Program, LLC   BH        3012 44th Street West   \n",
       "3  CRC ED Treatment, LLC dba Carolina House   BH          7200 NC Highway 751   \n",
       "4                         Acadia Healthcare   BH         2524 La Costa Avenue   \n",
       "\n",
       "              address_pt2         phone       website  \n",
       "0   Saint Paul, MN  55108  651-645-5323  651-645-5323  \n",
       "1   Saint Paul, MN  55108  651-645-5323  651-645-5323  \n",
       "2  Minneapolis, MN  55410  651-645-5323  651-645-5323  \n",
       "3       Durham, NC  27713  919-224-1628  919-224-1628  \n",
       "4     Carlsbad, CA  92009  760-436-2657  760-436-2657  "
      ]
     },
     "execution_count": 10,
     "metadata": {},
     "output_type": "execute_result"
    }
   ],
   "source": [
    "# save into dataframe\n",
    "df = pd.DataFrame(data)\n",
    "\n",
    "# replace line breaks\n",
    "df = df.replace('\\n', '', regex=True)\n",
    "\n",
    "# strip leading and trailing white space\n",
    "for column in df.columns:\n",
    "    df[column] = df[column].str.strip()\n",
    "    \n",
    "# remove phone and website text\n",
    "df['phone'] = df.phone.str.replace('Phone: ', '', regex=False)\n",
    "df['website'] = df.phone.str.replace('Website: ', '', regex=False)\n",
    "\n",
    "df.head()"
   ]
  },
  {
   "cell_type": "code",
   "execution_count": 11,
   "id": "c97f813f",
   "metadata": {},
   "outputs": [],
   "source": [
    "df.to_csv('carf-accredited-raw.csv', index=False)"
   ]
  },
  {
   "cell_type": "markdown",
   "id": "dc3666e2",
   "metadata": {},
   "source": [
    "## Services offered"
   ]
  },
  {
   "cell_type": "code",
   "execution_count": 12,
   "id": "0ccd1f87",
   "metadata": {},
   "outputs": [
    {
     "data": {
      "text/plain": [
       "142"
      ]
     },
     "execution_count": 12,
     "metadata": {},
     "output_type": "execute_result"
    }
   ],
   "source": [
    "data_programs = []\n",
    "for each_entry in data:\n",
    "    program = {}\n",
    "    try:\n",
    "        driver.get(each_entry['link'])\n",
    "        doc = BeautifulSoup(driver.page_source)\n",
    "        for each_row in doc.find_all('tbody')[0].find_all('tr')[1:]:\n",
    "            program = {}\n",
    "            program['name'] = each_entry['name']\n",
    "            program['link'] = each_entry['link']            \n",
    "            program['program_offered'] = each_row.find_all('td')[0].text + each_row.find_all('td')[1].text + each_row.find_all('td')[2].text\n",
    "            data_programs.append(program)\n",
    "    except:\n",
    "        pass\n",
    "    \n",
    "len(data_programs)"
   ]
  },
  {
   "cell_type": "markdown",
   "id": "d74bda58",
   "metadata": {},
   "source": [
    "### Save to dataframe"
   ]
  },
  {
   "cell_type": "code",
   "execution_count": 13,
   "id": "16cfc853",
   "metadata": {},
   "outputs": [
    {
     "data": {
      "text/html": [
       "<div>\n",
       "<style scoped>\n",
       "    .dataframe tbody tr th:only-of-type {\n",
       "        vertical-align: middle;\n",
       "    }\n",
       "\n",
       "    .dataframe tbody tr th {\n",
       "        vertical-align: top;\n",
       "    }\n",
       "\n",
       "    .dataframe thead th {\n",
       "        text-align: right;\n",
       "    }\n",
       "</style>\n",
       "<table border=\"1\" class=\"dataframe\">\n",
       "  <thead>\n",
       "    <tr style=\"text-align: right;\">\n",
       "      <th></th>\n",
       "      <th>name</th>\n",
       "      <th>link</th>\n",
       "      <th>program_offered</th>\n",
       "    </tr>\n",
       "  </thead>\n",
       "  <tbody>\n",
       "    <tr>\n",
       "      <th>0</th>\n",
       "      <td>Anna Westin House</td>\n",
       "      <td>http://www.carf.org/providerProfile.aspx?cid=3...</td>\n",
       "      <td>Residential Treatment (BH) Mental Health Eatin...</td>\n",
       "    </tr>\n",
       "    <tr>\n",
       "      <th>1</th>\n",
       "      <td>Anna Westin House Adolescent and Young Adult</td>\n",
       "      <td>http://www.carf.org/providerProfile.aspx?cid=3...</td>\n",
       "      <td>Residential Treatment (BH) Mental Health Eatin...</td>\n",
       "    </tr>\n",
       "    <tr>\n",
       "      <th>2</th>\n",
       "      <td>Anna Westin House Adolescent and Young Adult</td>\n",
       "      <td>http://www.carf.org/providerProfile.aspx?cid=3...</td>\n",
       "      <td>Residential Treatment (BH) Mental Health Eatin...</td>\n",
       "    </tr>\n",
       "    <tr>\n",
       "      <th>3</th>\n",
       "      <td>Anna Westin House West</td>\n",
       "      <td>http://www.carf.org/providerProfile.aspx?cid=3...</td>\n",
       "      <td>Residential Treatment (BH) Mental Health Eatin...</td>\n",
       "    </tr>\n",
       "    <tr>\n",
       "      <th>4</th>\n",
       "      <td>Anna Westin House West</td>\n",
       "      <td>http://www.carf.org/providerProfile.aspx?cid=3...</td>\n",
       "      <td>Residential Treatment (BH) Mental Health Eatin...</td>\n",
       "    </tr>\n",
       "  </tbody>\n",
       "</table>\n",
       "</div>"
      ],
      "text/plain": [
       "                                           name  \\\n",
       "0                             Anna Westin House   \n",
       "1  Anna Westin House Adolescent and Young Adult   \n",
       "2  Anna Westin House Adolescent and Young Adult   \n",
       "3                        Anna Westin House West   \n",
       "4                        Anna Westin House West   \n",
       "\n",
       "                                                link  \\\n",
       "0  http://www.carf.org/providerProfile.aspx?cid=3...   \n",
       "1  http://www.carf.org/providerProfile.aspx?cid=3...   \n",
       "2  http://www.carf.org/providerProfile.aspx?cid=3...   \n",
       "3  http://www.carf.org/providerProfile.aspx?cid=3...   \n",
       "4  http://www.carf.org/providerProfile.aspx?cid=3...   \n",
       "\n",
       "                                     program_offered  \n",
       "0  Residential Treatment (BH) Mental Health Eatin...  \n",
       "1  Residential Treatment (BH) Mental Health Eatin...  \n",
       "2  Residential Treatment (BH) Mental Health Eatin...  \n",
       "3  Residential Treatment (BH) Mental Health Eatin...  \n",
       "4  Residential Treatment (BH) Mental Health Eatin...  "
      ]
     },
     "execution_count": 13,
     "metadata": {},
     "output_type": "execute_result"
    }
   ],
   "source": [
    "df_programs = pd.DataFrame(data_programs)\n",
    "\n",
    "df_programs.program_offered.unique()\n",
    "\n",
    "# save into dataframe\n",
    "df_programs = pd.DataFrame(data_programs)\n",
    "\n",
    "# replace line breaks\n",
    "df_programs = df_programs.replace('\\n', '', regex=True)\n",
    "\n",
    "# strip leading and trailing white space\n",
    "for column in df_programs.columns:\n",
    "    df_programs[column] = df_programs[column].str.strip()\n",
    "    \n",
    "df_programs[\"program_offered\"] = df_programs.program_offered.str.replace('\\s+', ' ', regex=True)\n",
    "\n",
    "df_programs.head()"
   ]
  },
  {
   "cell_type": "code",
   "execution_count": 14,
   "id": "301ddfc4",
   "metadata": {},
   "outputs": [],
   "source": [
    "df_programs.to_csv('programs-only-raw.csv', index=False)\n",
    "\n",
    "# Will manually split out in Excel "
   ]
  }
 ],
 "metadata": {
  "kernelspec": {
   "display_name": "Python 3 (ipykernel)",
   "language": "python",
   "name": "python3"
  },
  "language_info": {
   "codemirror_mode": {
    "name": "ipython",
    "version": 3
   },
   "file_extension": ".py",
   "mimetype": "text/x-python",
   "name": "python",
   "nbconvert_exporter": "python",
   "pygments_lexer": "ipython3",
   "version": "3.9.7"
  }
 },
 "nbformat": 4,
 "nbformat_minor": 5
}
