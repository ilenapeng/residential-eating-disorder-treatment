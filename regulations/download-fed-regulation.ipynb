{
 "cells": [
  {
   "cell_type": "markdown",
   "id": "6776f058",
   "metadata": {},
   "source": [
    "# Downloading all available state regulations"
   ]
  },
  {
   "cell_type": "code",
   "execution_count": 1,
   "id": "4ba34241",
   "metadata": {},
   "outputs": [],
   "source": [
    "# Link format: https://aspe.hhs.gov/sites/default/files/2021-08/StateBHCond-[State].pdf\n",
    "# Is in capital case\n",
    "# If two words, is typed as such NewYork"
   ]
  },
  {
   "cell_type": "code",
   "execution_count": 2,
   "id": "cc867c0a",
   "metadata": {},
   "outputs": [
    {
     "name": "stderr",
     "output_type": "stream",
     "text": [
      "/Users/ilenapeng/.pyenv/versions/3.9.7/lib/python3.9/site-packages/pandas/compat/__init__.py:124: UserWarning: Could not import the lzma module. Your installed Python is incomplete. Attempting to use lzma compression will result in a RuntimeError.\n",
      "  warnings.warn(msg)\n"
     ]
    }
   ],
   "source": [
    "import pandas as pd\n",
    "\n",
    "# For downloading files\n",
    "import wget\n",
    "\n",
    "# For stacking PDFs into one to print out\n",
    "from PyPDF2 import PdfFileMerger, PdfFileReader"
   ]
  },
  {
   "cell_type": "code",
   "execution_count": 3,
   "id": "980dcd7b",
   "metadata": {},
   "outputs": [],
   "source": [
    "# create list of states\n",
    "state_list = [\"Alaska\", \"Alabama\", \"Arkansas\", \"Arizona\", \"California\", \"Colorado\", \"Connecticut\", \\\n",
    "              \"DistrictofColumbia\", \"Delaware\", \"Florida\", \"Georgia\", \"Hawaii\", \"Iowa\", \"Idaho\", \\\n",
    "              \"Illinois\", \"Indiana\", \"Kansas\", \"Louisiana\", \"Massachusetts\", \"Maryland\", \\\n",
    "              \"Maine\", \"Michigan\", \"Minnesota\", \"Missouri\", \"Mississippi\", \"Montana\", \"NorthCarolina\", \\\n",
    "              \"NorthDakota\", \"Nebraska\", \"NewHampshire\", \"NewJersey\", \"NewMexico\", \"Nevada\", \\\n",
    "              \"NewYork\", \"Ohio\", \"Oklahoma\", \"Oregon\", \"Pennsylvania\", \"RhodeIsland\", \"SouthCarolina\", \\\n",
    "              \"SouthDakota\", \"Tennessee\", \"Texas\", \"Utah\", \"Virginia\", \"Vermont\", \"Washington\", \"Wisconsin\", \n",
    "              \"WestVirginia\", \"Wyoming\"]\n",
    "\n",
    "# NOTE: Removing Kentucky becasue there is no PDF for the state"
   ]
  },
  {
   "cell_type": "code",
   "execution_count": 4,
   "id": "9e7a5e3e",
   "metadata": {},
   "outputs": [
    {
     "data": {
      "text/plain": [
       "50"
      ]
     },
     "execution_count": 4,
     "metadata": {},
     "output_type": "execute_result"
    }
   ],
   "source": [
    "# plug list of states to get a list of URLs\n",
    "url_list = []\n",
    "for each_state in state_list:\n",
    "    each_url = 'https://aspe.hhs.gov/sites/default/files/2021-08/StateBHCond-' + each_state + '.pdf'\n",
    "    url_list.append(each_url)\n",
    "    \n",
    "len(url_list)"
   ]
  },
  {
   "cell_type": "code",
   "execution_count": 5,
   "id": "f2983d44",
   "metadata": {},
   "outputs": [
    {
     "name": "stdout",
     "output_type": "stream",
     "text": [
      "100% [........................................................] 265209 / 265209"
     ]
    }
   ],
   "source": [
    "# download all PDFs\n",
    "for each_url in url_list:\n",
    "    wget.download(each_url)"
   ]
  },
  {
   "cell_type": "code",
   "execution_count": 6,
   "id": "c2639274",
   "metadata": {},
   "outputs": [],
   "source": [
    "# combine PDFs\n",
    "mergedObject = PdfFileMerger()\n",
    "\n",
    "for state_name in state_list:\n",
    "    mergedObject.append(PdfFileReader('StateBHCOND-' + str(state_name)+ '.pdf', 'rb'))\n",
    "\n",
    "mergedObject.write(\"all-state-regulations.pdf\")"
   ]
  }
 ],
 "metadata": {
  "kernelspec": {
   "display_name": "Python 3 (ipykernel)",
   "language": "python",
   "name": "python3"
  },
  "language_info": {
   "codemirror_mode": {
    "name": "ipython",
    "version": 3
   },
   "file_extension": ".py",
   "mimetype": "text/x-python",
   "name": "python",
   "nbconvert_exporter": "python",
   "pygments_lexer": "ipython3",
   "version": "3.9.7"
  }
 },
 "nbformat": 4,
 "nbformat_minor": 5
}
